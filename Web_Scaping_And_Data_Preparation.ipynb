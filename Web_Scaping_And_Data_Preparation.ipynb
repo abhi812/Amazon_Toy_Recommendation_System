{
 "cells": [
  {
   "cell_type": "code",
   "execution_count": 2,
   "metadata": {},
   "outputs": [],
   "source": [
    "#Importing libraries\n",
    "from bs4 import BeautifulSoup\n",
    "from selenium import webdriver\n",
    "import pandas as pd\n",
    "import math\n",
    "import numpy as np"
   ]
  },
  {
   "cell_type": "code",
   "execution_count": 36,
   "metadata": {},
   "outputs": [],
   "source": [
    "#Reading input files\n",
    "data = pd.read_csv(\"amazon_co-ecommerce_sample.csv\")"
   ]
  },
  {
   "cell_type": "code",
   "execution_count": 5,
   "metadata": {},
   "outputs": [
    {
     "data": {
      "text/plain": [
       "array(['uniq_id', 'product_name', 'manufacturer', 'price',\n",
       "       'number_available_in_stock', 'number_of_reviews',\n",
       "       'number_of_answered_questions', 'average_review_rating',\n",
       "       'amazon_category_and_sub_category',\n",
       "       'customers_who_bought_this_item_also_bought', 'description',\n",
       "       'product_information', 'product_description',\n",
       "       'items_customers_buy_after_viewing_this_item',\n",
       "       'customer_questions_and_answers', 'customer_reviews', 'sellers'],\n",
       "      dtype=object)"
      ]
     },
     "execution_count": 5,
     "metadata": {},
     "output_type": "execute_result"
    }
   ],
   "source": [
    "#List of attributes\n",
    "attributes = data.columns.values\n",
    "attributes"
   ]
  },
  {
   "cell_type": "code",
   "execution_count": 6,
   "metadata": {},
   "outputs": [],
   "source": [
    "#Chrome driver for web scraping\n",
    "driver = webdriver.Chrome(\"C:/Users/Downloads/chromedriver_win32/chromedriver\")"
   ]
  },
  {
   "cell_type": "code",
   "execution_count": 78,
   "metadata": {},
   "outputs": [],
   "source": [
    "#Function for detecting nan values from list of strings.\n",
    "def is_nan_in_string(datalist):\n",
    "    for i in range (len(datalist)):\n",
    "        if (str(datalist[i]) == \"nan\"):\n",
    "            datalist[i] = \"Nothing\"\n",
    "    return datalist\n",
    "\n",
    "#Function for converting list of charecters to a string.\n",
    "def convert_string(x): \n",
    "    # initialization of string to \"\" \n",
    "    new = \"\" \n",
    "    # traverse in the string  \n",
    "    for i in x:\n",
    "        new += i  \n",
    "    # return string  \n",
    "    return new \n",
    "\n",
    "#Function for converting links from charecters to link type structure.\n",
    "def get_link_one_by_one(indata):\n",
    "    lot = []\n",
    "    #Storing a stop sign.\n",
    "    for i in indata:\n",
    "        lot.append(i)\n",
    "    lot.append('!')\n",
    "    i = 0\n",
    "    all_links = []\n",
    "    #Accessing all charecters from input.\n",
    "    while i < (len(lot)):\n",
    "        link = []\n",
    "        #Until a space is found.\n",
    "        while lot[i] != \" \":\n",
    "            if (i == len(lot) - 1):\n",
    "                break;\n",
    "            link.append(lot[i])\n",
    "            i += 1\n",
    "        #Based on structure of input, +3 position are puched forward.\n",
    "        i += 3\n",
    "        all_links.append(convert_string(link))\n",
    "    return all_links\n",
    "\n",
    "#Function for links to be in the form of list of list per product.\n",
    "def get_links(indata):\n",
    "    all_links = []\n",
    "    for i in range (len(indata)):\n",
    "        all_link = get_link_one_by_one(indata[i])\n",
    "        all_links.append(all_link)\n",
    "    return all_links\n",
    "\n",
    "#FUnction for web scaping.\n",
    "def get_info(link):\n",
    "    if (link != 'Nothing' and link != ''):\n",
    "        driver.get(link)\n",
    "        page_content = driver.page_source\n",
    "        pulled_content = BeautifulSoup(page_content)\n",
    "        toy_name = pulled_content.find('span', attrs={'class':'a-size-large'})\n",
    "        #average_rating = pulled_content.find('span', attrs={'class':'a-icon-alt'})\n",
    "        average_rating = pulled_content.find('span', attrs={'data-hook':'rating-out-of-text'})\n",
    "        #manufacturer = pulled_content.find('span', attrs={'class':'a-link-normal'})\n",
    "        price = pulled_content.find('span', attrs={'class':'a-color-price'})\n",
    "    \n",
    "        name_string_whole = str(toy_name)\n",
    "        toy_name_string = name_string_whole[45 : (len(name_string_whole) - 7)]\n",
    "        toy_name_string = toy_name_string.strip()\n",
    "    \n",
    "        avg_string = str(average_rating)\n",
    "        average_rating_string = avg_string[72:75]\n",
    "        #average_rating_string = avg_string[81:83]\n",
    "        #average_rating_string = avg_string[25:28]\n",
    "        \n",
    "        price_string_whole = str(price)\n",
    "        price_string = price_string_whole[28 : (len(price_string_whole) - 7)]\n",
    "        price_name_string = price_string.strip()\n",
    "        \n",
    "        return toy_name_string, average_rating_string, price_name_string\n",
    "    else:\n",
    "        toy_name_string = 'Nothing'\n",
    "        average_rating_string = 0\n",
    "        price_name_string = ''\n",
    "        return toy_name_string, average_rating_string, price_name_string\n",
    "\n",
    "#Function for getting all required data (Product name and average rating) for entire column of links.\n",
    "def give_list_of_data(indata_all):\n",
    "    indata = is_nan_in_string(indata_all)\n",
    "    list_of_links = get_links(indata)\n",
    "    toy_name_entire_list = []\n",
    "    average_rating_entire_list = []\n",
    "    price_entire_list = []\n",
    "    for i in range (len(list_of_links)):\n",
    "        toy_name_entire_list_for_row = []\n",
    "        average_rating_entire_list_for_row = []\n",
    "        price_entire_list_for_row = []\n",
    "        for j in range (len(list_of_links[i])):\n",
    "            toyname, avgrating, price = get_info(list_of_links[i][j])\n",
    "            toy_name_entire_list_for_row.append(toyname)\n",
    "            average_rating_entire_list_for_row.append(avgrating)\n",
    "            price_entire_list_for_row.append(price)\n",
    "        toy_name_entire_list.append(toy_name_entire_list_for_row)\n",
    "        average_rating_entire_list.append(average_rating_entire_list_for_row)\n",
    "        price_entire_list.append(price_entire_list_for_row)\n",
    "    return toy_name_entire_list, average_rating_entire_list, price_entire_list\n",
    "\n",
    "\n",
    "def screpgetgo(idata):\n",
    "    x = is_nan_in_string(idata)\n",
    "    y = get_links(x)\n",
    "    N_product_name, N_Avaerage_rating, N_Price = give_list_of_data(y)\n",
    "    return N_product_name, N_Avaerage_rating, N_Price\n"
   ]
  },
  {
   "cell_type": "code",
   "execution_count": 1,
   "metadata": {
    "scrolled": true
   },
   "outputs": [],
   "source": [
    "also_name, also_avg_rating, also_price = give_list_of_data(data[\"customers_who_bought_this_item_also_bought\"])"
   ]
  },
  {
   "cell_type": "code",
   "execution_count": null,
   "metadata": {},
   "outputs": [],
   "source": [
    "new_data = pd.DataFrame(data[\"product_name\"], data[\"manufacturer\"], data[\"price\"], data[\"average_review_rating\"], \n",
    "                        data[\"customers_who_bought_this_item_also_bought\"], \n",
    "                        also_name, also_avg_rating, also_price)"
   ]
  },
  {
   "cell_type": "code",
   "execution_count": null,
   "metadata": {},
   "outputs": [],
   "source": [
    "new_data.to_csv('Amazon_Association_Data.csv')"
   ]
  }
 ],
 "metadata": {
  "kernelspec": {
   "display_name": "Python 3",
   "language": "python",
   "name": "python3"
  },
  "language_info": {
   "codemirror_mode": {
    "name": "ipython",
    "version": 3
   },
   "file_extension": ".py",
   "mimetype": "text/x-python",
   "name": "python",
   "nbconvert_exporter": "python",
   "pygments_lexer": "ipython3",
   "version": "3.7.4"
  }
 },
 "nbformat": 4,
 "nbformat_minor": 2
}
