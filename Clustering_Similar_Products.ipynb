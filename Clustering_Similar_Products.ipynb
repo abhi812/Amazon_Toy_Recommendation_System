{
 "cells": [
  {
   "cell_type": "code",
   "execution_count": 1,
   "metadata": {
    "ExecuteTime": {
     "end_time": "2019-12-04T19:10:35.058978Z",
     "start_time": "2019-12-04T19:10:25.189630Z"
    }
   },
   "outputs": [],
   "source": [
    "# Import libraries\n",
    "\n",
    "import nltk\n",
    "from nltk.tokenize import word_tokenize, sent_tokenize\n",
    "import gensim\n",
    "from gensim.utils import simple_preprocess\n",
    "from smart_open import smart_open\n",
    "# nltk.download('stopwords')  # run once\n",
    "from nltk.corpus import stopwords\n",
    "# stop_words = stopwords.words('english')\n",
    "from gensim import corpora\n",
    "from pprint import pprint\n",
    "from pyclustering.cluster.kmedians import kmedians\n",
    "from pyclustering.cluster import cluster_visualizer\n",
    "from pyclustering.utils import read_sample\n",
    "from pyclustering.samples.definitions import FCPS_SAMPLES\n",
    "# from jupyterthemes import jtplot\n",
    "# jtplot.style(theme='monokai', context='notebook',\n",
    "#              ticks=True, grid=False)\n",
    "import math\n",
    "import numpy as np\n",
    "from sklearn import datasets\n",
    "from sklearn.preprocessing import normalize\n",
    "import matplotlib.pyplot as plt\n",
    "import seaborn as sns\n",
    "from jupyterthemes import jtplot\n",
    "import operator\n",
    "import pandas as pd\n",
    "# jtplot.style(theme='monokai', context='notebook',\n",
    "#              ticks=True, grid=False)"
   ]
  },
  {
   "cell_type": "code",
   "execution_count": 2,
   "metadata": {
    "ExecuteTime": {
     "end_time": "2019-12-04T19:10:35.159261Z",
     "start_time": "2019-12-04T19:10:35.096814Z"
    }
   },
   "outputs": [],
   "source": [
    "df= pd.read_csv(\"final_clustering_df.csv\")\n",
    "X = np.asarray(df.iloc[:,[1,2]])"
   ]
  },
  {
   "cell_type": "code",
   "execution_count": 3,
   "metadata": {
    "ExecuteTime": {
     "end_time": "2019-12-04T19:10:35.212638Z",
     "start_time": "2019-12-04T19:10:35.197243Z"
    }
   },
   "outputs": [],
   "source": [
    "def euclidean_distance_word(dat, rand_medians,word_sim):\n",
    "    dist_list = []\n",
    "    for i in range(len(rand_medians)):\n",
    "        summation = np.sum((X-rand_medians[i])**2, axis=1)\n",
    "        summation = normalize(summation.reshape(-1,1))\n",
    "        summation = summation + (1-word_sim).reshape(-1,1)\n",
    "#         summation = word_sim\n",
    "        dist_list.append(np.sqrt(summation))\n",
    "    dist_list = np.asarray(dist_list)\n",
    "    return (dist_list)\n",
    "\n",
    "def word_sim_calc(df,item):\n",
    "    file_docs = []\n",
    "    for i in range(len(df)):\n",
    "        tokens = sent_tokenize(df['Names'][i])\n",
    "        file_docs.append(tokens)\n",
    "    mydict = corpora.Dictionary([simple_preprocess((\" \".join(line))) for line in file_docs])\n",
    "    corpus = [mydict.doc2bow(simple_preprocess((\" \".join(line)))) for line in file_docs]\n",
    "    tfidf = gensim.models.TfidfModel(corpus)\n",
    "    workdir = r'C:\\Users\\DataMining\\Project\\ '\n",
    "    sims = gensim.similarities.Similarity(workdir,tfidf[corpus],num_features=len(mydict))\n",
    "    query_doc_tf_idf = tfidf[corpus[item]]\n",
    "    word_sim = sims[query_doc_tf_idf]\n",
    "    return (word_sim)\\\n",
    "\n",
    "def similar_prod(item,no_item,data):\n",
    "    user = []\n",
    "    X = np.asarray(data.iloc[:,[1,2]])\n",
    "    user.append(X[item])\n",
    "    wordsim = word_sim_calc(data,item)\n",
    "    dist_array = euclidean_distance_word(X,user,wordsim)\n",
    "    dict = { i : dist_array[:,i] for i in range(0, dist_array.shape[1] ) }\n",
    "    sorted_dict = sorted(dict.items(), key=operator.itemgetter(1))\n",
    "    similar_prod_index = sorted_dict[0:(no_item+1)]\n",
    "    result = df.iloc[np.asarray(similar_prod_index)[:,0]]\n",
    "    name = result['Names'].tolist()\n",
    "    price = result['Price'].tolist()\n",
    "    rating = result['Rating'].tolist()\n",
    "    return name,price,rating"
   ]
  },
  {
   "cell_type": "code",
   "execution_count": 4,
   "metadata": {
    "ExecuteTime": {
     "end_time": "2019-12-04T19:10:45.373843Z",
     "start_time": "2019-12-04T19:10:35.243920Z"
    }
   },
   "outputs": [
    {
     "name": "stdout",
     "output_type": "stream",
     "text": [
      "Select product index : 25\n",
      "Select no of similar products : 5\n"
     ]
    },
    {
     "data": {
      "text/plain": [
       "(['Bandai Kamen Rider Gaim DX Henshin Belt Sengoku Driver Gaim &amp; Baron Set',\n",
       "  'Bandai Kamen Rider Gaim AC01 Kamen Rider Gaim Orange Arms',\n",
       "  'Bandai Kamen Rider Gaim AC13 Kamen Rider Gaim Kiwami Arms',\n",
       "  'Bandai Kamen Rider Gaim AC02 Kamen Rider Baron Banana Arms',\n",
       "  'Bandai Kamen Rider Gaim DX Kiwami Lock Seed',\n",
       "  'Bandai Kamen Rider Gaim DX Kachidoki Lock Seed'],\n",
       " [43.61, 42.47, 48.95, 58.43, 21.74174707892781, 62.25],\n",
       " [5.0, 5.0, 0.0, 5.0, 0.0, 4.5])"
      ]
     },
     "execution_count": 4,
     "metadata": {},
     "output_type": "execute_result"
    }
   ],
   "source": [
    "ind = int(input(\"Select product index : \") )\n",
    "num = int(input(\"Select no of similar products : \") )\n",
    "similar_prod(ind,num,df)"
   ]
  }
 ],
 "metadata": {
  "kernelspec": {
   "display_name": "Python 3",
   "language": "python",
   "name": "python3"
  },
  "language_info": {
   "codemirror_mode": {
    "name": "ipython",
    "version": 3
   },
   "file_extension": ".py",
   "mimetype": "text/x-python",
   "name": "python",
   "nbconvert_exporter": "python",
   "pygments_lexer": "ipython3",
   "version": "3.7.4"
  },
  "toc": {
   "base_numbering": 1,
   "nav_menu": {},
   "number_sections": true,
   "sideBar": true,
   "skip_h1_title": false,
   "title_cell": "Table of Contents",
   "title_sidebar": "Contents",
   "toc_cell": false,
   "toc_position": {},
   "toc_section_display": true,
   "toc_window_display": false
  },
  "varInspector": {
   "cols": {
    "lenName": 16,
    "lenType": 16,
    "lenVar": 40
   },
   "kernels_config": {
    "python": {
     "delete_cmd_postfix": "",
     "delete_cmd_prefix": "del ",
     "library": "var_list.py",
     "varRefreshCmd": "print(var_dic_list())"
    },
    "r": {
     "delete_cmd_postfix": ") ",
     "delete_cmd_prefix": "rm(",
     "library": "var_list.r",
     "varRefreshCmd": "cat(var_dic_list()) "
    }
   },
   "types_to_exclude": [
    "module",
    "function",
    "builtin_function_or_method",
    "instance",
    "_Feature"
   ],
   "window_display": false
  }
 },
 "nbformat": 4,
 "nbformat_minor": 2
}
